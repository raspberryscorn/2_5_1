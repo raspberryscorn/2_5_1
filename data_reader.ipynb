{
  "nbformat": 4,
  "nbformat_minor": 0,
  "metadata": {
    "colab": {
      "provenance": [],
      "gpuType": "T4",
      "mount_file_id": "1IrN_eZPDGZCzBsIn9ikP5UdzqbdlXK0u",
      "authorship_tag": "ABX9TyPMcDY6zlQa/OTu/OOYm9sP",
      "include_colab_link": true
    },
    "kernelspec": {
      "name": "python3",
      "display_name": "Python 3"
    },
    "language_info": {
      "name": "python"
    },
    "accelerator": "GPU"
  },
  "cells": [
    {
      "cell_type": "markdown",
      "metadata": {
        "id": "view-in-github",
        "colab_type": "text"
      },
      "source": [
        "<a href=\"https://colab.research.google.com/github/raspberryscorn/2_5_1/blob/main/data_reader.ipynb\" target=\"_parent\"><img src=\"https://colab.research.google.com/assets/colab-badge.svg\" alt=\"Open In Colab\"/></a>"
      ]
    },
    {
      "cell_type": "code",
      "execution_count": null,
      "metadata": {
        "colab": {
          "base_uri": "https://localhost:8080/"
        },
        "id": "kkS090_A7QWU",
        "outputId": "51d1916f-2bc9-4bf1-96d3-14fef9fcfac7"
      },
      "outputs": [
        {
          "output_type": "stream",
          "name": "stdout",
          "text": [
            "/content/drive/MyDrive/ddeep/bhban_ai/SECTION_2/Chapter_5/2_5_1\n"
          ]
        }
      ],
      "source": [
        "cd \"/content/drive/MyDrive/ddeep/bhban_ai/SECTION_2/Chapter_5/2_5_1\""
      ]
    },
    {
      "cell_type": "code",
      "source": [
        "\"\"\"\n",
        "Author : Byunghyun Ban\n",
        "Date : 2020.07.17.\n",
        "\"\"\"\n",
        "import os\n",
        "import random\n",
        "\n",
        "import time\n",
        "try:\n",
        "    from matplotlib import pyplot as plt\n",
        "except ModuleNotFoundError:\n",
        "    import pip\n",
        "    pip.main(['install', 'matplotlib'])\n",
        "    try:\n",
        "        from matplotlib import pyplot as plt\n",
        "    except ModuleNotFoundError:\n",
        "        time.sleep(2)\n",
        "        from matplotlib import pyplot as plt\n",
        "\n",
        "try:\n",
        "    import numpy as np\n",
        "except ModuleNotFoundError:\n",
        "    import pip\n",
        "    pip.main(['install', 'numpy'])\n",
        "    try:\n",
        "        import numpy as np\n",
        "    except ModuleNotFoundError:\n",
        "        time.sleep(2)\n",
        "        import numpy as np\n",
        "\n",
        "\n",
        "# 데이터를 떠먹여 줄 클래스를 제작합니다.\n",
        "class DataReader():\n",
        "    def __init__(self):\n",
        "        # 데이터를 저장할 변수들입니다.\n",
        "        self.train_X, self.train_Y, self.test_X, self.test_Y = self.read_data()\n",
        "\n",
        "        # 데이터 읽기가 완료되었습니다.\n",
        "        # 읽어온 데이터의 정보를 출력합니다.\n",
        "        print(\"\\n\\nData Read Done!\")\n",
        "        print(\"Training X Size : \" + str(self.train_X.shape))\n",
        "        print(\"Training Y Size : \" + str(self.train_Y.shape))\n",
        "        print(\"Test X Size : \" + str(self.test_X.shape))\n",
        "        print(\"Test Y Size : \" + str(self.test_Y.shape) + '\\n\\n')\n",
        "\n",
        "    # 데이터를 읽어오기 위한 매서드입니다.\n",
        "    def read_data(self):\n",
        "        # 파일을 실행합니다.\n",
        "        filename = os.listdir(\"data\")[0]\n",
        "        file = open(\"data/\" + filename, encoding=\"utf8\")\n",
        "\n",
        "        # 헤더를 제거합니다.\n",
        "        file.readline()\n",
        "\n",
        "        # 데이터와 레이블을 저장하기 위한 변수입니다.\n",
        "        data = []\n",
        "\n",
        "        # 파일을 한 줄씩 읽어옵니다.\n",
        "        for line in file:\n",
        "            # 컴마를 기준으로 split()을 실행합니다.\n",
        "            splt = line.split(\",\")\n",
        "\n",
        "            # split 결과물을 정리해 X값과 Y값으로 추립니다.\n",
        "            x, cls = self.process_data(splt)\n",
        "\n",
        "            # 추려낸 데이터를 저장합니다.\n",
        "            data.append((x, cls))\n",
        "\n",
        "        # 데이터를 섞습니다\n",
        "        random.shuffle(data)\n",
        "\n",
        "        X = []\n",
        "        Y = []\n",
        "\n",
        "        for el in data:\n",
        "            X.append(el[0])\n",
        "            Y.append(el[1])\n",
        "\n",
        "        X = np.asarray(X)\n",
        "        Y = np.asarray(Y)\n",
        "\n",
        "        train_X = X[:int(len(X) * 0.8)]\n",
        "        train_Y = Y[:int(len(Y) * 0.8)]\n",
        "        test_X = X[int(len(X) * 0.8):]\n",
        "        test_Y = Y[int(len(Y) * 0.8):]\n",
        "\n",
        "        return train_X, train_Y, test_X, test_Y\n",
        "\n",
        "    # split() 값을 정리하기 위한 매서드입니다.\n",
        "    def process_data(self, splt):\n",
        "        # 읽어온 splt 값에서 학교, 성별, 키, 몸무게만 추출합니다.\n",
        "        school = splt[9]\n",
        "        gender = splt[13]\n",
        "        height = float(splt[15]) / 194.2\n",
        "        weight = float(splt[16]) / 130.7\n",
        "\n",
        "        # 완성된 데이터를 저장할 변수입니다.\n",
        "        data = []\n",
        "\n",
        "        # 키와 몸무게를 삽입합니다.\n",
        "        data.append(height)\n",
        "        data.append(weight)\n",
        "\n",
        "        # 성별을 삽입합니다. 남자일 경우 1, 여자일 경우 0을 삽입합니다.\n",
        "        if gender == \"남\":\n",
        "            data.append(1)\n",
        "        else:\n",
        "            data.append(0)\n",
        "\n",
        "        # 초등학교, 중학교, 고등학교 정보를 원 핫 벡터로 정리합니다.\n",
        "        # cls는 레이블 역할을 수행합니다.\n",
        "        if school.endswith(\"초등학교\"):\n",
        "            cls = 0\n",
        "        elif school.endswith(\"중학교\"):\n",
        "            cls = 1\n",
        "        elif school.endswith(\"고등학교\"):\n",
        "            cls = 2\n",
        "\n",
        "        # 결과물을 리턴합니다.\n",
        "        return data, cls\n",
        "\n",
        "\n",
        "def draw_graph(history):\n",
        "    train_history = history.history[\"loss\"]\n",
        "    validation_history = history.history[\"val_loss\"]\n",
        "    fig = plt.figure(figsize=(8, 8))\n",
        "    plt.title(\"Loss History\")\n",
        "    plt.xlabel(\"EPOCH\")\n",
        "    plt.ylabel(\"LOSS Function\")\n",
        "    plt.plot(train_history, \"red\")\n",
        "    plt.plot(validation_history, 'blue')\n",
        "    fig.savefig(\"train_history.png\")\n",
        "\n",
        "    train_history = history.history[\"accuracy\"]\n",
        "    validation_history = history.history[\"val_accuracy\"]\n",
        "    fig = plt.figure(figsize=(8, 8))\n",
        "    plt.title(\"Accuracy History\")\n",
        "    plt.xlabel(\"EPOCH\")\n",
        "    plt.ylabel(\"Accuracy\")\n",
        "    plt.plot(train_history, \"red\")\n",
        "    plt.plot(validation_history, 'blue')\n",
        "    fig.savefig(\"accuracy_history.png\")\n"
      ],
      "metadata": {
        "id": "COs3LJ067kL3"
      },
      "execution_count": null,
      "outputs": []
    },
    {
      "cell_type": "code",
      "source": [],
      "metadata": {
        "id": "eB6QvqXz8eom"
      },
      "execution_count": null,
      "outputs": []
    }
  ]
}